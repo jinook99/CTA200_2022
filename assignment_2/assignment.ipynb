{
 "cells": [
  {
   "cell_type": "markdown",
   "id": "2738427c",
   "metadata": {},
   "source": [
    "Assignment 2"
   ]
  },
  {
   "cell_type": "code",
   "execution_count": 2,
   "id": "afc83cf0",
   "metadata": {},
   "outputs": [],
   "source": [
    "def f(x):\n",
    "    return x**3-x**2-1\n",
    "\n",
    "def df(x):\n",
    "    return 3*x**2-2*x"
   ]
  },
  {
   "cell_type": "code",
   "execution_count": 20,
   "id": "1a46052b",
   "metadata": {},
   "outputs": [],
   "source": [
    "import numpy as np\n",
    "\n",
    "def newton(f, df, x0, epsilon=1e-6, max_iteration=30):\n",
    "    \"\"\"Newton iteration. Calculates root of a function. \n",
    "    Given function f, its derivative df, and initial guess x0,\n",
    "    this code calculates value for x such that f(x) is 0.\n",
    "    Calculation stops when f(x) is smaller than epsilon or\n",
    "    when max_iteration is reached.\n",
    "    \n",
    "    Parameters\n",
    "    ----------\n",
    "    f : function\n",
    "        function that you wish to find its root\n",
    "    df : function\n",
    "        derivative of f\n",
    "    x0 : float\n",
    "        initial guess of x near root of f\n",
    "    epsilon : float\n",
    "        small range around 0 where the code stops calculation\n",
    "    max_iteration : int\n",
    "        maximum number of iteration\n",
    "        \n",
    "    Returns\n",
    "    -------\n",
    "    x : array_like (float)\n",
    "        values of x in each iteration\n",
    "    f_of_x : array_like (float)\n",
    "        values of f(x) in each iteration\n",
    "    \"\"\"\n",
    "    x = np.zeros(max_iteration)\n",
    "    x[0] = x0\n",
    "    f_of_x = np.zeros(max_iteration)\n",
    "    f_of_x[0] = f(x[0])\n",
    "    for i in range(1, max_iteration):\n",
    "        x[i] = x[i-1] - f(x[i-1])/df(x[i-1])\n",
    "        f_of_x[i] = f(x[i])\n",
    "        if f_of_x[i] < epsilon:\n",
    "            return x, f_of_x\n",
    "            break\n",
    "        else:\n",
    "            pass\n",
    "    print('Max iteration is reached')\n",
    "    return x, f_of_x\n",
    "    "
   ]
  },
  {
   "cell_type": "code",
   "execution_count": 22,
   "id": "0b3027e5",
   "metadata": {},
   "outputs": [],
   "source": [
    "def newton(f, df, x0, epsilon=1e-6, max_iteration=30):\n",
    "    \"\"\"Newton iteration. Calculates root of a function. \n",
    "    Given function f, its derivative df, and initial guess x0,\n",
    "    this code calculates value for x such that f(x) is 0.\n",
    "    Calculation stops when f(x) is smaller than epsilon or\n",
    "    when max_iteration is reached.\n",
    "    \n",
    "    Parameters\n",
    "    ----------\n",
    "    f : function\n",
    "        function that you wish to find its root\n",
    "    df : function\n",
    "        derivative of f\n",
    "    x0 : float\n",
    "        initial guess of x near root of f\n",
    "    epsilon : float\n",
    "        small range around 0 where the code stops calculation\n",
    "    max_iteration : int\n",
    "        maximum number of iteration\n",
    "        \n",
    "    Returns\n",
    "    -------\n",
    "    x : array_like (float)\n",
    "        values of x in each iteration\n",
    "    f_of_x : array_like (float)\n",
    "        values of f(x) in each iteration\n",
    "    \"\"\"\n",
    "    x = np.array([x0])\n",
    "    f_of_x = np.array([f(x0)])\n",
    "    for i in range(1, max_iteration):\n",
    "        x_val = x[i-1] - f(x[i-1])/df(x[i-1])\n",
    "        x = np.insert(x, -1, x_val)\n",
    "        f_val = f(x_val)\n",
    "        f_of_x = np.insert(f_of_x, -1, f(x_val))\n",
    "        if f_of_x[i] < epsilon:\n",
    "            return x, f_of_x\n",
    "            break\n",
    "        else:\n",
    "            pass\n",
    "    print('Max iteration is reached')\n",
    "    return x, f_of_x"
   ]
  },
  {
   "cell_type": "code",
   "execution_count": 23,
   "id": "d1b20f43",
   "metadata": {},
   "outputs": [
    {
     "name": "stdout",
     "output_type": "stream",
     "text": [
      "Max iteration is reached\n",
      "[2 2 2 2 2 2 2 2 2 2 2 2 2 2 2 2 2 2 2 2 2 2 2 2 2 2 2 2 2 3] [ 4  4  4  4  4  4  4  4  4  4  4  4  4  4  4  4  4  4  4  4  4  4  4  4\n",
      "  4  4  4  4  4 17]\n"
     ]
    }
   ],
   "source": [
    "x0 = 3\n",
    "x, f_of_x = newton(f, df, x0)\n",
    "print(x, f_of_x)"
   ]
  },
  {
   "cell_type": "code",
   "execution_count": null,
   "id": "26ddd69f",
   "metadata": {},
   "outputs": [],
   "source": []
  }
 ],
 "metadata": {
  "kernelspec": {
   "display_name": "Python 3 (ipykernel)",
   "language": "python",
   "name": "python3"
  },
  "language_info": {
   "codemirror_mode": {
    "name": "ipython",
    "version": 3
   },
   "file_extension": ".py",
   "mimetype": "text/x-python",
   "name": "python",
   "nbconvert_exporter": "python",
   "pygments_lexer": "ipython3",
   "version": "3.10.2"
  }
 },
 "nbformat": 4,
 "nbformat_minor": 5
}
