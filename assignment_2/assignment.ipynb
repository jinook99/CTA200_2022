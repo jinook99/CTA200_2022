{
 "cells": [
  {
   "cell_type": "markdown",
   "id": "2738427c",
   "metadata": {},
   "source": [
    "Assignment 2"
   ]
  },
  {
   "cell_type": "markdown",
   "id": "1489208d",
   "metadata": {},
   "source": [
    "Part 1"
   ]
  },
  {
   "cell_type": "code",
   "execution_count": 3,
   "id": "afc83cf0",
   "metadata": {},
   "outputs": [],
   "source": [
    "def f(x):\n",
    "    return x**3-x**2-1\n",
    "\n",
    "def df(x):\n",
    "    return 3*x**2-2*x"
   ]
  },
  {
   "cell_type": "markdown",
   "id": "95715d35",
   "metadata": {},
   "source": [
    "Part 2"
   ]
  },
  {
   "cell_type": "code",
   "execution_count": 11,
   "id": "efffd5a9",
   "metadata": {},
   "outputs": [],
   "source": [
    "import numpy as np\n",
    "\n",
    "def newton(f, df, x0, epsilon=1e-6, max_iteration=30):\n",
    "    \"\"\"Newton iteration. Calculates root of a function. \n",
    "    Given function f, its derivative df, and initial guess x0,\n",
    "    this code calculates value for x such that f(x) is 0.\n",
    "    Calculation stops when f(x) is smaller than epsilon or\n",
    "    when max_iteration is reached.\n",
    "    \n",
    "    Parameters\n",
    "    ----------\n",
    "    f : function\n",
    "        function that you wish to find its root\n",
    "    df : function\n",
    "        derivative of f\n",
    "    x0 : float\n",
    "        initial guess of x near root of f\n",
    "    epsilon : float\n",
    "        small range around 0 where the code stops calculation\n",
    "    max_iteration : int\n",
    "        maximum number of iteration\n",
    "        \n",
    "    Returns\n",
    "    -------\n",
    "    x : float\n",
    "        The root of function f\n",
    "    \"\"\"\n",
    "    x = [x0]\n",
    "    f_of_x = [f(x[0])]\n",
    "    for i in range(1, max_iteration):\n",
    "        x_val = x[i-1] - f(x[i-1])/df(x[i-1])\n",
    "        x.append(x_val)\n",
    "        f_of_x.append(f(x[i]))\n",
    "        if abs(f_of_x[i]) < epsilon:\n",
    "            print('Found root in', i+1, 'iterations')\n",
    "            return x[-1]\n",
    "            break\n",
    "        else:\n",
    "            pass\n",
    "    print('Iteration failed')\n",
    "    return None"
   ]
  },
  {
   "cell_type": "markdown",
   "id": "88cf7c0c",
   "metadata": {},
   "source": [
    "Part 3"
   ]
  },
  {
   "cell_type": "markdown",
   "id": "debda92b",
   "metadata": {},
   "source": [
    "Try with x0 = 5"
   ]
  },
  {
   "cell_type": "code",
   "execution_count": 25,
   "id": "d1b20f43",
   "metadata": {},
   "outputs": [
    {
     "name": "stdout",
     "output_type": "stream",
     "text": [
      "Found root in 8 iterations\n",
      "1.4655712402015129\n"
     ]
    }
   ],
   "source": [
    "x0 = 5\n",
    "x = newton(f, df, x0)\n",
    "print(x)"
   ]
  },
  {
   "cell_type": "markdown",
   "id": "7b513c4f",
   "metadata": {},
   "source": [
    "Now try with x0 = -1.9"
   ]
  },
  {
   "cell_type": "code",
   "execution_count": 23,
   "id": "26ddd69f",
   "metadata": {},
   "outputs": [
    {
     "name": "stdout",
     "output_type": "stream",
     "text": [
      "Iteration failed\n",
      "None\n"
     ]
    }
   ],
   "source": [
    "x0 = -1.9\n",
    "x = newton(f, df, x0)\n",
    "print(x)"
   ]
  },
  {
   "cell_type": "markdown",
   "id": "62bf3532",
   "metadata": {},
   "source": [
    "Now try x0 = 5 with epsilon = 1e-8"
   ]
  },
  {
   "cell_type": "code",
   "execution_count": 26,
   "id": "456debfa",
   "metadata": {},
   "outputs": [
    {
     "name": "stdout",
     "output_type": "stream",
     "text": [
      "Found root in 9 iterations\n",
      "1.4655712318767682\n"
     ]
    }
   ],
   "source": [
    "x0 = 5\n",
    "x = newton(f, df, x0, epsilon = 1e-8)\n",
    "print(x)"
   ]
  },
  {
   "cell_type": "markdown",
   "id": "516cf3cf",
   "metadata": {},
   "source": [
    "With smaller epsilon it converges after one more iteration."
   ]
  },
  {
   "cell_type": "code",
   "execution_count": null,
   "id": "384cf85f",
   "metadata": {},
   "outputs": [],
   "source": []
  }
 ],
 "metadata": {
  "kernelspec": {
   "display_name": "Python 3 (ipykernel)",
   "language": "python",
   "name": "python3"
  },
  "language_info": {
   "codemirror_mode": {
    "name": "ipython",
    "version": 3
   },
   "file_extension": ".py",
   "mimetype": "text/x-python",
   "name": "python",
   "nbconvert_exporter": "python",
   "pygments_lexer": "ipython3",
   "version": "3.10.2"
  }
 },
 "nbformat": 4,
 "nbformat_minor": 5
}
